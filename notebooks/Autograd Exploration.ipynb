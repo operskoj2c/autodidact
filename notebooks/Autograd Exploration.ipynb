{
 "cells": [
  {
   "cell_type": "code",
   "execution_count": 2,
   "metadata": {},
   "outputs": [],
   "source": [
    "from __future__ import absolute_import\n",
    "\n",
    "import sys\n",
    "if '../' not in sys.path:\n",
    "  sys.path.append('../')\n",
    "\n",
    "import autograd.numpy as np\n",
    "from autograd import grad\n",
    "import matplotlib.pyplot as plt\n",
    "\n",
    "%matplotlib inline"
   ]
  },
  {
   "cell_type": "code",
   "execution_count": 3,
   "metadata": {},
   "outputs": [
    {
     "data": {
      "image/png": "[encoded data removed]",
      "text/plain": [
       "<Figure size 432x288 with 1 Axes>"
      ]
     },
     "metadata": {
      "needs_background": "light"
     },
     "output_type": "display_data"
    }
   ],
   "source": [
    "# We could use np.tanh, but let's write our own as an example.\n",
    "\n",
    "def tanh(x):\n",
    "    return (1.0 - np.exp(-x))  / (1.0 + np.exp(-x))\n",
    "\n",
    "x = np.linspace(-7, 7, 200)\n",
    "plt.plot(x, tanh(x),\n",
    "         x, grad(tanh)(x),                                # first  derivative\n",
    "         x, grad(grad(tanh))(x),                          # second derivative\n",
    "         x, grad(grad(grad(tanh)))(x),                    # third  derivative\n",
    "         x, grad(grad(grad(grad(tanh))))(x),              # fourth derivative\n",
    "         x, grad(grad(grad(grad(grad(tanh)))))(x),        # fifth  derivative\n",
    "         x, grad(grad(grad(grad(grad(grad(tanh))))))(x))  # sixth  derivative\n",
    "\n",
    "plt.axis('off')\n",
    "plt.savefig(\"tanh.png\")\n",
    "plt.show()"
   ]
  },
  {
   "cell_type": "code",
   "execution_count": 4,
   "metadata": {},
   "outputs": [
    {
     "name": "stdout",
     "output_type": "stream",
     "text": [
      "3.0\n",
      "\n",
      "[[3.]\n",
      " [3.]]\n"
     ]
    }
   ],
   "source": [
    "# How does Autograd deal with broadcasting?\n",
    "\n",
    "from autograd.numpy.numpy_vjps import unbroadcast\n",
    "\n",
    "x = 2.0\n",
    "\n",
    "# Let f(x) = x + [1, 1, 1].\n",
    "#\n",
    "# If x[], then it is numpy first prepends as many length-1 dims as necessary (in this case, 1) to get\n",
    "# x[1], then copies along those length-1 dims to match [1, 1, 1] (in this case, 3x).\n",
    "#\n",
    "# We can look at f(x) as f(x_1=x, x_2=x, x_3=x). Then the total derivative of f() wrt x is,\n",
    "# df/dx = \\sum_{i} (df/dx_i) (dx_i/dx)\n",
    "#       = \\sum_{i} 1 * 1\n",
    "#       = 3 = number of times x was copied.\n",
    "\n",
    "def f(x):\n",
    "    return x + np.ones((3,))\n",
    "\n",
    "x = 2.0\n",
    "y = f(x)\n",
    "g = np.ones(np.shape(y))\n",
    "print unbroadcast(x, g)\n",
    "\n",
    "# Any time numpy needs to broadcast, it clones the broadcasted value along leading dimensions.\n",
    "# During backpropagation, we sum over these dimensions as total derivative requires.\n",
    "print ''\n",
    "\n",
    "x = np.arange(2).reshape((2, 1))\n",
    "y = f(x)\n",
    "g = np.ones(np.shape(y))\n",
    "print unbroadcast(x, g)"
   ]
  },
  {
   "cell_type": "code",
   "execution_count": 5,
   "metadata": {},
   "outputs": [
    {
     "data": {
      "text/plain": [
       "array(1.)"
      ]
     },
     "execution_count": 5,
     "metadata": {},
     "output_type": "execute_result"
    }
   ],
   "source": [
    "# What does Autograd do when a function has non-differentiable functions?\n",
    "#\n",
    "# It assumes their derivative is zero wrt their inputs.\n",
    "\n",
    "def foo(x):\n",
    "    return np.floor(x) + x\n",
    "\n",
    "grad(foo)(1.5)"
   ]
  }
 ],
 "metadata": {
  "kernelspec": {
   "display_name": "Python 2",
   "language": "python",
   "name": "python2"
  },
  "language_info": {
   "codemirror_mode": {
    "name": "ipython",
    "version": 2
   },
   "file_extension": ".py",
   "mimetype": "text/x-python",
   "name": "python",
   "nbconvert_exporter": "python",
   "pygments_lexer": "ipython2",
   "version": "2.7.13"
  }
 },
 "nbformat": 4,
 "nbformat_minor": 2
}
